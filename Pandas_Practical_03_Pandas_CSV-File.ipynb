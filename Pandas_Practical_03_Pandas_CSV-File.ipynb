{
 "cells": [
  {
   "cell_type": "markdown",
   "id": "4e168834",
   "metadata": {},
   "source": [
    "# Creation of CSV- COMMON SEPERATED VALUE"
   ]
  },
  {
   "cell_type": "code",
   "execution_count": 1,
   "id": "7a7f233a",
   "metadata": {},
   "outputs": [],
   "source": [
    "import pandas as pd"
   ]
  },
  {
   "cell_type": "code",
   "execution_count": 3,
   "id": "ad0f78e3",
   "metadata": {},
   "outputs": [],
   "source": [
    "# help(pd.read_csv)"
   ]
  },
  {
   "cell_type": "code",
   "execution_count": 5,
   "id": "ef2e91c0",
   "metadata": {},
   "outputs": [],
   "source": [
    "# pd.read_csv('file_path_name')"
   ]
  },
  {
   "cell_type": "code",
   "execution_count": 6,
   "id": "ff1caccc",
   "metadata": {},
   "outputs": [],
   "source": [
    "import os"
   ]
  },
  {
   "cell_type": "code",
   "execution_count": 7,
   "id": "f6fb94a2",
   "metadata": {},
   "outputs": [],
   "source": [
    "# os - module used for current directory"
   ]
  },
  {
   "cell_type": "code",
   "execution_count": 8,
   "id": "46326fb1",
   "metadata": {},
   "outputs": [],
   "source": [
    "# pd.read_csv()"
   ]
  },
  {
   "cell_type": "code",
   "execution_count": 9,
   "id": "3f447cfa",
   "metadata": {},
   "outputs": [
    {
     "data": {
      "text/plain": [
       "\" drop_va.dropna()\\ndrop_va.dropna(axis=, how = '') \""
      ]
     },
     "execution_count": 9,
     "metadata": {},
     "output_type": "execute_result"
    }
   ],
   "source": [
    "# Drop Nan value remove\n",
    "''' drop_va.dropna()\n",
    "drop_va.dropna(axis=, how = '') ''' "
   ]
  },
  {
   "cell_type": "code",
   "execution_count": 11,
   "id": "b6dcdbab",
   "metadata": {},
   "outputs": [
    {
     "data": {
      "text/plain": [
       "' \\ndataFrame.fillna()\\n# dictionary\\ndataFrame.fillna({})\\n# method\\ndataFrame.fillna()\\n'"
      ]
     },
     "execution_count": 11,
     "metadata": {},
     "output_type": "execute_result"
    }
   ],
   "source": [
    "# Drop Pandas Filna \n",
    "''' \n",
    "dataFrame.fillna()\n",
    "# dictionary\n",
    "dataFrame.fillna({})\n",
    "# method\n",
    "dataFrame.fillna()\n",
    "'''"
   ]
  },
  {
   "cell_type": "code",
   "execution_count": 12,
   "id": "69e1db96",
   "metadata": {},
   "outputs": [],
   "source": [
    "# Replace function\n",
    "\n",
    "#dataFrame_01.replace(to_replace, value, limit)"
   ]
  },
  {
   "cell_type": "code",
   "execution_count": null,
   "id": "915c6e58",
   "metadata": {},
   "outputs": [],
   "source": [
    "# Interplates\n",
    "\n",
    "DataFrame.interpolate()\n",
    "\n",
    "Series.interploate()\n",
    "\n",
    "# methods,"
   ]
  },
  {
   "cell_type": "code",
   "execution_count": 13,
   "id": "918c76a1",
   "metadata": {},
   "outputs": [],
   "source": [
    "# loc \n",
    "# Gruop By Function\n",
    "# Merging Function\n",
    "# Concat - Series, DataFrame or pannel concate\n",
    "# Join - Two DataFram add\n",
    "# Append - append the rows to another file rows then add and create another dataFrame\n",
    "# Pivot Table - "
   ]
  },
  {
   "cell_type": "code",
   "execution_count": null,
   "id": "49061eab",
   "metadata": {},
   "outputs": [],
   "source": []
  }
 ],
 "metadata": {
  "kernelspec": {
   "display_name": "Python 3 (ipykernel)",
   "language": "python",
   "name": "python3"
  },
  "language_info": {
   "codemirror_mode": {
    "name": "ipython",
    "version": 3
   },
   "file_extension": ".py",
   "mimetype": "text/x-python",
   "name": "python",
   "nbconvert_exporter": "python",
   "pygments_lexer": "ipython3",
   "version": "3.11.4"
  }
 },
 "nbformat": 4,
 "nbformat_minor": 5
}
