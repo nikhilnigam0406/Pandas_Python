{
 "cells": [
  {
   "cell_type": "markdown",
   "id": "612809d9",
   "metadata": {},
   "source": [
    "#  Create  DataFrame using Python"
   ]
  },
  {
   "cell_type": "code",
   "execution_count": 1,
   "id": "74794d6c",
   "metadata": {},
   "outputs": [],
   "source": [
    "import pandas as pd"
   ]
  },
  {
   "cell_type": "code",
   "execution_count": 2,
   "id": "b96e6a26",
   "metadata": {},
   "outputs": [
    {
     "name": "stdout",
     "output_type": "stream",
     "text": [
      "Empty DataFrame\n",
      "Columns: []\n",
      "Index: []\n"
     ]
    }
   ],
   "source": [
    "# Create empty Dataframe \n",
    "empty_dataframe = pd.DataFrame()\n",
    "print(empty_dataframe)"
   ]
  },
  {
   "cell_type": "code",
   "execution_count": 3,
   "id": "ffff49e0",
   "metadata": {},
   "outputs": [
    {
     "name": "stdout",
     "output_type": "stream",
     "text": [
      "['a(A)', 'b(B)', 'c(C)', 'd(D)', 'e(E)']\n"
     ]
    }
   ],
   "source": [
    "# LIST\n",
    "lst_01 = ['a(A)','b(B)','c(C)','d(D)','e(E)']\n",
    "print(lst_01)"
   ]
  },
  {
   "cell_type": "code",
   "execution_count": 4,
   "id": "60f4486f",
   "metadata": {},
   "outputs": [],
   "source": [
    "dataframe_01 = pd.DataFrame(lst_01)"
   ]
  },
  {
   "cell_type": "code",
   "execution_count": 5,
   "id": "b6a06695",
   "metadata": {},
   "outputs": [
    {
     "name": "stdout",
     "output_type": "stream",
     "text": [
      "      0\n",
      "0  a(A)\n",
      "1  b(B)\n",
      "2  c(C)\n",
      "3  d(D)\n",
      "4  e(E)\n"
     ]
    }
   ],
   "source": [
    "# Using print command to print\n",
    "print(dataframe_01)\n"
   ]
  },
  {
   "cell_type": "code",
   "execution_count": 6,
   "id": "f9ee8be1",
   "metadata": {},
   "outputs": [
    {
     "data": {
      "text/html": [
       "<div>\n",
       "<style scoped>\n",
       "    .dataframe tbody tr th:only-of-type {\n",
       "        vertical-align: middle;\n",
       "    }\n",
       "\n",
       "    .dataframe tbody tr th {\n",
       "        vertical-align: top;\n",
       "    }\n",
       "\n",
       "    .dataframe thead th {\n",
       "        text-align: right;\n",
       "    }\n",
       "</style>\n",
       "<table border=\"1\" class=\"dataframe\">\n",
       "  <thead>\n",
       "    <tr style=\"text-align: right;\">\n",
       "      <th></th>\n",
       "      <th>0</th>\n",
       "    </tr>\n",
       "  </thead>\n",
       "  <tbody>\n",
       "    <tr>\n",
       "      <th>0</th>\n",
       "      <td>a(A)</td>\n",
       "    </tr>\n",
       "    <tr>\n",
       "      <th>1</th>\n",
       "      <td>b(B)</td>\n",
       "    </tr>\n",
       "    <tr>\n",
       "      <th>2</th>\n",
       "      <td>c(C)</td>\n",
       "    </tr>\n",
       "    <tr>\n",
       "      <th>3</th>\n",
       "      <td>d(D)</td>\n",
       "    </tr>\n",
       "    <tr>\n",
       "      <th>4</th>\n",
       "      <td>e(E)</td>\n",
       "    </tr>\n",
       "  </tbody>\n",
       "</table>\n",
       "</div>"
      ],
      "text/plain": [
       "      0\n",
       "0  a(A)\n",
       "1  b(B)\n",
       "2  c(C)\n",
       "3  d(D)\n",
       "4  e(E)"
      ]
     },
     "execution_count": 6,
     "metadata": {},
     "output_type": "execute_result"
    }
   ],
   "source": [
    "# Another way to print only jupyter\n",
    "dataframe_01"
   ]
  },
  {
   "cell_type": "code",
   "execution_count": 7,
   "id": "90034573",
   "metadata": {},
   "outputs": [
    {
     "data": {
      "text/plain": [
       "[[1, 2, 3, 4], [11, 12, 13, 14], [111, 122, 123, 124]]"
      ]
     },
     "execution_count": 7,
     "metadata": {},
     "output_type": "execute_result"
    }
   ],
   "source": [
    "# list of List Creation\n",
    "list_02 = [[1,2,3,4],[11,12,13,14],[111,122,123,124]]\n",
    "# printing of list \n",
    "list_02"
   ]
  },
  {
   "cell_type": "code",
   "execution_count": 8,
   "id": "6b9d3dc1",
   "metadata": {},
   "outputs": [
    {
     "data": {
      "text/html": [
       "<div>\n",
       "<style scoped>\n",
       "    .dataframe tbody tr th:only-of-type {\n",
       "        vertical-align: middle;\n",
       "    }\n",
       "\n",
       "    .dataframe tbody tr th {\n",
       "        vertical-align: top;\n",
       "    }\n",
       "\n",
       "    .dataframe thead th {\n",
       "        text-align: right;\n",
       "    }\n",
       "</style>\n",
       "<table border=\"1\" class=\"dataframe\">\n",
       "  <thead>\n",
       "    <tr style=\"text-align: right;\">\n",
       "      <th></th>\n",
       "      <th>0</th>\n",
       "      <th>1</th>\n",
       "      <th>2</th>\n",
       "      <th>3</th>\n",
       "    </tr>\n",
       "  </thead>\n",
       "  <tbody>\n",
       "    <tr>\n",
       "      <th>0</th>\n",
       "      <td>1</td>\n",
       "      <td>2</td>\n",
       "      <td>3</td>\n",
       "      <td>4</td>\n",
       "    </tr>\n",
       "    <tr>\n",
       "      <th>1</th>\n",
       "      <td>11</td>\n",
       "      <td>12</td>\n",
       "      <td>13</td>\n",
       "      <td>14</td>\n",
       "    </tr>\n",
       "    <tr>\n",
       "      <th>2</th>\n",
       "      <td>111</td>\n",
       "      <td>122</td>\n",
       "      <td>123</td>\n",
       "      <td>124</td>\n",
       "    </tr>\n",
       "  </tbody>\n",
       "</table>\n",
       "</div>"
      ],
      "text/plain": [
       "     0    1    2    3\n",
       "0    1    2    3    4\n",
       "1   11   12   13   14\n",
       "2  111  122  123  124"
      ]
     },
     "execution_count": 8,
     "metadata": {},
     "output_type": "execute_result"
    }
   ],
   "source": [
    "# print of DataFrame\n",
    "dataframe_02 = pd.DataFrame(list_02)\n",
    "dataframe_02"
   ]
  },
  {
   "cell_type": "code",
   "execution_count": 9,
   "id": "79d080ca",
   "metadata": {},
   "outputs": [
    {
     "data": {
      "text/plain": [
       "{'ID': [1001, 1002, 1003, 1004, 1005]}"
      ]
     },
     "execution_count": 9,
     "metadata": {},
     "output_type": "execute_result"
    }
   ],
   "source": [
    "# Creation Dictionary\n",
    "dict_01 = {\"ID\":[1001,1002,1003,1004,1005]}\n",
    "dict_01"
   ]
  },
  {
   "cell_type": "code",
   "execution_count": 10,
   "id": "359854c9",
   "metadata": {},
   "outputs": [
    {
     "data": {
      "text/html": [
       "<div>\n",
       "<style scoped>\n",
       "    .dataframe tbody tr th:only-of-type {\n",
       "        vertical-align: middle;\n",
       "    }\n",
       "\n",
       "    .dataframe tbody tr th {\n",
       "        vertical-align: top;\n",
       "    }\n",
       "\n",
       "    .dataframe thead th {\n",
       "        text-align: right;\n",
       "    }\n",
       "</style>\n",
       "<table border=\"1\" class=\"dataframe\">\n",
       "  <thead>\n",
       "    <tr style=\"text-align: right;\">\n",
       "      <th></th>\n",
       "      <th>ID</th>\n",
       "    </tr>\n",
       "  </thead>\n",
       "  <tbody>\n",
       "    <tr>\n",
       "      <th>0</th>\n",
       "      <td>1001</td>\n",
       "    </tr>\n",
       "    <tr>\n",
       "      <th>1</th>\n",
       "      <td>1002</td>\n",
       "    </tr>\n",
       "    <tr>\n",
       "      <th>2</th>\n",
       "      <td>1003</td>\n",
       "    </tr>\n",
       "    <tr>\n",
       "      <th>3</th>\n",
       "      <td>1004</td>\n",
       "    </tr>\n",
       "    <tr>\n",
       "      <th>4</th>\n",
       "      <td>1005</td>\n",
       "    </tr>\n",
       "  </tbody>\n",
       "</table>\n",
       "</div>"
      ],
      "text/plain": [
       "     ID\n",
       "0  1001\n",
       "1  1002\n",
       "2  1003\n",
       "3  1004\n",
       "4  1005"
      ]
     },
     "execution_count": 10,
     "metadata": {},
     "output_type": "execute_result"
    }
   ],
   "source": [
    "dataframe_03 = pd.DataFrame(dict_01)\n",
    "dataframe_03"
   ]
  },
  {
   "cell_type": "code",
   "execution_count": 11,
   "id": "4214c379",
   "metadata": {},
   "outputs": [
    {
     "data": {
      "text/plain": [
       "{'ID': [5001, 5002, 5003, 5004, 5005], ' Gender': ['M', 'F', 'F', 'M', 'M']}"
      ]
     },
     "execution_count": 11,
     "metadata": {},
     "output_type": "execute_result"
    }
   ],
   "source": [
    "# Creation Multiple Dictionary\n",
    "# Both value must be eqaul in size\n",
    "dict_02 = {\"ID\":[5001,5002,5003,5004,5005], \" Gender\":['M','F','F','M','M']}\n",
    "dict_02"
   ]
  },
  {
   "cell_type": "code",
   "execution_count": 12,
   "id": "a79880c7",
   "metadata": {},
   "outputs": [
    {
     "data": {
      "text/html": [
       "<div>\n",
       "<style scoped>\n",
       "    .dataframe tbody tr th:only-of-type {\n",
       "        vertical-align: middle;\n",
       "    }\n",
       "\n",
       "    .dataframe tbody tr th {\n",
       "        vertical-align: top;\n",
       "    }\n",
       "\n",
       "    .dataframe thead th {\n",
       "        text-align: right;\n",
       "    }\n",
       "</style>\n",
       "<table border=\"1\" class=\"dataframe\">\n",
       "  <thead>\n",
       "    <tr style=\"text-align: right;\">\n",
       "      <th></th>\n",
       "      <th>ID</th>\n",
       "      <th>Gender</th>\n",
       "    </tr>\n",
       "  </thead>\n",
       "  <tbody>\n",
       "    <tr>\n",
       "      <th>0</th>\n",
       "      <td>5001</td>\n",
       "      <td>M</td>\n",
       "    </tr>\n",
       "    <tr>\n",
       "      <th>1</th>\n",
       "      <td>5002</td>\n",
       "      <td>F</td>\n",
       "    </tr>\n",
       "    <tr>\n",
       "      <th>2</th>\n",
       "      <td>5003</td>\n",
       "      <td>F</td>\n",
       "    </tr>\n",
       "    <tr>\n",
       "      <th>3</th>\n",
       "      <td>5004</td>\n",
       "      <td>M</td>\n",
       "    </tr>\n",
       "    <tr>\n",
       "      <th>4</th>\n",
       "      <td>5005</td>\n",
       "      <td>M</td>\n",
       "    </tr>\n",
       "  </tbody>\n",
       "</table>\n",
       "</div>"
      ],
      "text/plain": [
       "     ID  Gender\n",
       "0  5001       M\n",
       "1  5002       F\n",
       "2  5003       F\n",
       "3  5004       M\n",
       "4  5005       M"
      ]
     },
     "execution_count": 12,
     "metadata": {},
     "output_type": "execute_result"
    }
   ],
   "source": [
    "dataframe_04 = pd.DataFrame(dict_02)\n",
    "dataframe_04"
   ]
  },
  {
   "cell_type": "code",
   "execution_count": 13,
   "id": "9b362fb1",
   "metadata": {},
   "outputs": [
    {
     "data": {
      "text/plain": [
       "[{'Sr No.': [9001, 9002, 90003, 9004, 9005], 'Id': ['1', '2', '3', '4', '5']},\n",
       " {'Name': ['Aviral', 'Ram\\n', 'Riya', 'Siya', 'Sam'],\n",
       "  'Gender': ['M', 'M', 'F', 'F', 'M']},\n",
       " {'Age': ['23', '21', '23', '24', '20']}]"
      ]
     },
     "execution_count": 13,
     "metadata": {},
     "output_type": "execute_result"
    }
   ],
   "source": [
    "# List of Dictionary - Mistake***\n",
    "dict_03 = [{\"Sr No.\": [9001,9002,90003,9004,9005], \"Id\":['1','2','3','4','5']}, {\"Name\":[\"Aviral\", \"Ram\\n\", \"Riya\", \"Siya\", \"Sam\"],\"Gender\": ['M','M','F','F','M']}, {\"Age\": ['23','21','23','24','20']}]\n",
    "dict_03 "
   ]
  },
  {
   "cell_type": "code",
   "execution_count": 14,
   "id": "8bd60f55",
   "metadata": {},
   "outputs": [
    {
     "data": {
      "text/html": [
       "<div>\n",
       "<style scoped>\n",
       "    .dataframe tbody tr th:only-of-type {\n",
       "        vertical-align: middle;\n",
       "    }\n",
       "\n",
       "    .dataframe tbody tr th {\n",
       "        vertical-align: top;\n",
       "    }\n",
       "\n",
       "    .dataframe thead th {\n",
       "        text-align: right;\n",
       "    }\n",
       "</style>\n",
       "<table border=\"1\" class=\"dataframe\">\n",
       "  <thead>\n",
       "    <tr style=\"text-align: right;\">\n",
       "      <th></th>\n",
       "      <th>Sr No.</th>\n",
       "      <th>Id</th>\n",
       "      <th>Name</th>\n",
       "      <th>Gender</th>\n",
       "      <th>Age</th>\n",
       "    </tr>\n",
       "  </thead>\n",
       "  <tbody>\n",
       "    <tr>\n",
       "      <th>0</th>\n",
       "      <td>[9001, 9002, 90003, 9004, 9005]</td>\n",
       "      <td>[1, 2, 3, 4, 5]</td>\n",
       "      <td>NaN</td>\n",
       "      <td>NaN</td>\n",
       "      <td>NaN</td>\n",
       "    </tr>\n",
       "    <tr>\n",
       "      <th>1</th>\n",
       "      <td>NaN</td>\n",
       "      <td>NaN</td>\n",
       "      <td>[Aviral, Ram\\n, Riya, Siya, Sam]</td>\n",
       "      <td>[M, M, F, F, M]</td>\n",
       "      <td>NaN</td>\n",
       "    </tr>\n",
       "    <tr>\n",
       "      <th>2</th>\n",
       "      <td>NaN</td>\n",
       "      <td>NaN</td>\n",
       "      <td>NaN</td>\n",
       "      <td>NaN</td>\n",
       "      <td>[23, 21, 23, 24, 20]</td>\n",
       "    </tr>\n",
       "  </tbody>\n",
       "</table>\n",
       "</div>"
      ],
      "text/plain": [
       "                            Sr No.               Id  \\\n",
       "0  [9001, 9002, 90003, 9004, 9005]  [1, 2, 3, 4, 5]   \n",
       "1                              NaN              NaN   \n",
       "2                              NaN              NaN   \n",
       "\n",
       "                               Name           Gender                   Age  \n",
       "0                               NaN              NaN                   NaN  \n",
       "1  [Aviral, Ram\\n, Riya, Siya, Sam]  [M, M, F, F, M]                   NaN  \n",
       "2                               NaN              NaN  [23, 21, 23, 24, 20]  "
      ]
     },
     "execution_count": 14,
     "metadata": {},
     "output_type": "execute_result"
    }
   ],
   "source": [
    "# List of dictionary - DataFrame\n",
    "dataframe_05 = pd.DataFrame(dict_03)\n",
    "dataframe_05\n"
   ]
  },
  {
   "cell_type": "code",
   "execution_count": 15,
   "id": "28b732e0",
   "metadata": {},
   "outputs": [
    {
     "data": {
      "text/plain": [
       "{'Aviral': [9001, 1, 'M'], 'Ram': [9002, 2, 'M'], 'Riya': [9003, 3, 'F']}"
      ]
     },
     "execution_count": 15,
     "metadata": {},
     "output_type": "execute_result"
    }
   ],
   "source": [
    "# List of Dictionary - Mistake***\n",
    "dict_03 = {\"Aviral\" : [9001,1,'M'], \"Ram\":[9002,2,'M'], \"Riya\":[9003,3,'F']}\n",
    "dict_03 "
   ]
  },
  {
   "cell_type": "code",
   "execution_count": 16,
   "id": "eeaefa22",
   "metadata": {},
   "outputs": [
    {
     "data": {
      "text/html": [
       "<div>\n",
       "<style scoped>\n",
       "    .dataframe tbody tr th:only-of-type {\n",
       "        vertical-align: middle;\n",
       "    }\n",
       "\n",
       "    .dataframe tbody tr th {\n",
       "        vertical-align: top;\n",
       "    }\n",
       "\n",
       "    .dataframe thead th {\n",
       "        text-align: right;\n",
       "    }\n",
       "</style>\n",
       "<table border=\"1\" class=\"dataframe\">\n",
       "  <thead>\n",
       "    <tr style=\"text-align: right;\">\n",
       "      <th></th>\n",
       "      <th>Aviral</th>\n",
       "      <th>Ram</th>\n",
       "      <th>Riya</th>\n",
       "    </tr>\n",
       "  </thead>\n",
       "  <tbody>\n",
       "    <tr>\n",
       "      <th>0</th>\n",
       "      <td>9001</td>\n",
       "      <td>9002</td>\n",
       "      <td>9003</td>\n",
       "    </tr>\n",
       "    <tr>\n",
       "      <th>1</th>\n",
       "      <td>1</td>\n",
       "      <td>2</td>\n",
       "      <td>3</td>\n",
       "    </tr>\n",
       "    <tr>\n",
       "      <th>2</th>\n",
       "      <td>M</td>\n",
       "      <td>M</td>\n",
       "      <td>F</td>\n",
       "    </tr>\n",
       "  </tbody>\n",
       "</table>\n",
       "</div>"
      ],
      "text/plain": [
       "  Aviral   Ram  Riya\n",
       "0   9001  9002  9003\n",
       "1      1     2     3\n",
       "2      M     M     F"
      ]
     },
     "execution_count": 16,
     "metadata": {},
     "output_type": "execute_result"
    }
   ],
   "source": [
    "dataframe_06 = pd.DataFrame(dict_03)\n",
    "dataframe_06"
   ]
  },
  {
   "cell_type": "code",
   "execution_count": 19,
   "id": "e98a67b7",
   "metadata": {},
   "outputs": [
    {
     "data": {
      "text/html": [
       "<div>\n",
       "<style scoped>\n",
       "    .dataframe tbody tr th:only-of-type {\n",
       "        vertical-align: middle;\n",
       "    }\n",
       "\n",
       "    .dataframe tbody tr th {\n",
       "        vertical-align: top;\n",
       "    }\n",
       "\n",
       "    .dataframe thead th {\n",
       "        text-align: right;\n",
       "    }\n",
       "</style>\n",
       "<table border=\"1\" class=\"dataframe\">\n",
       "  <thead>\n",
       "    <tr style=\"text-align: right;\">\n",
       "      <th></th>\n",
       "      <th>ID</th>\n",
       "      <th>Gender</th>\n",
       "    </tr>\n",
       "  </thead>\n",
       "  <tbody>\n",
       "    <tr>\n",
       "      <th>0</th>\n",
       "      <td>1</td>\n",
       "      <td>M</td>\n",
       "    </tr>\n",
       "    <tr>\n",
       "      <th>1</th>\n",
       "      <td>2</td>\n",
       "      <td>F</td>\n",
       "    </tr>\n",
       "    <tr>\n",
       "      <th>2</th>\n",
       "      <td>3</td>\n",
       "      <td>M</td>\n",
       "    </tr>\n",
       "  </tbody>\n",
       "</table>\n",
       "</div>"
      ],
      "text/plain": [
       "   ID Gender\n",
       "0   1      M\n",
       "1   2      F\n",
       "2   3      M"
      ]
     },
     "execution_count": 19,
     "metadata": {},
     "output_type": "execute_result"
    }
   ],
   "source": [
    "# Dictionary Series creation - Data Frame\n",
    "dict_list = {\"ID\":pd.Series([1,2,3]), \"Gender\":pd.Series(['M','F','M'])}\n",
    "dict_list_print = pd.DataFrame(dict_list)\n",
    "dict_list_print"
   ]
  },
  {
   "cell_type": "code",
   "execution_count": null,
   "id": "e6d9f714",
   "metadata": {},
   "outputs": [],
   "source": [
    "# tuple or other methods\n",
    "# "
   ]
  }
 ],
 "metadata": {
  "kernelspec": {
   "display_name": "Python 3 (ipykernel)",
   "language": "python",
   "name": "python3"
  },
  "language_info": {
   "codemirror_mode": {
    "name": "ipython",
    "version": 3
   },
   "file_extension": ".py",
   "mimetype": "text/x-python",
   "name": "python",
   "nbconvert_exporter": "python",
   "pygments_lexer": "ipython3",
   "version": "3.11.4"
  }
 },
 "nbformat": 4,
 "nbformat_minor": 5
}
