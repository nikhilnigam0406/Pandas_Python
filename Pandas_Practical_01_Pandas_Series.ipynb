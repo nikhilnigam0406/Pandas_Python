{
 "cells": [
  {
   "cell_type": "markdown",
   "id": "246e3818",
   "metadata": {},
   "source": [
    "# Series"
   ]
  },
  {
   "cell_type": "code",
   "execution_count": 3,
   "id": "da437903",
   "metadata": {},
   "outputs": [],
   "source": [
    "import pandas as pd"
   ]
  },
  {
   "cell_type": "code",
   "execution_count": null,
   "id": "36d6806a",
   "metadata": {},
   "outputs": [],
   "source": [
    "# Known Versions of Pandas\n",
    "pd.__version__"
   ]
  },
  {
   "cell_type": "code",
   "execution_count": null,
   "id": "d641c67d",
   "metadata": {},
   "outputs": [],
   "source": [
    "# Creation of Series using List \n",
    "\n",
    "List_01 = [\"Nikhil\",\"Nigam\",'M',22,5.8]\n",
    "print(List_01)\n",
    "type(List_01)"
   ]
  },
  {
   "cell_type": "code",
   "execution_count": null,
   "id": "0a8c3f09",
   "metadata": {},
   "outputs": [],
   "source": [
    "series_01 = pd.Series(List_01)\n",
    "print(series_01)"
   ]
  },
  {
   "cell_type": "code",
   "execution_count": null,
   "id": "f9c8f4a3",
   "metadata": {},
   "outputs": [],
   "source": [
    "# Type of Series\n",
    "type(series_01)"
   ]
  },
  {
   "cell_type": "code",
   "execution_count": null,
   "id": "a66994f4",
   "metadata": {},
   "outputs": [],
   "source": [
    "series_02 = pd.Series([0,1,2,3,4,5,6,7,8,9])\n",
    "print(series_02)"
   ]
  },
  {
   "cell_type": "code",
   "execution_count": null,
   "id": "c83a221c",
   "metadata": {},
   "outputs": [],
   "source": [
    "# Creation of Empty series\n",
    "\n",
    "empty_Series_01 = pd.Series([], dtype = int)\n",
    "print(empty_Series_01)"
   ]
  },
  {
   "cell_type": "code",
   "execution_count": null,
   "id": "3c065391",
   "metadata": {},
   "outputs": [],
   "source": [
    "empty_Series_02 = pd.Series(['a','b','c','d','e'], index = ['A','B','C','D','E'], dtype = str, name = \"Alphbet\")\n",
    "print(empty_Series_02)"
   ]
  },
  {
   "cell_type": "code",
   "execution_count": null,
   "id": "7676389c",
   "metadata": {},
   "outputs": [],
   "source": [
    "# Creation of Scalar - sinle value we create\n",
    "Scalar_var_01 = pd.Series(0.5)\n",
    "print(Scalar_var_01)"
   ]
  },
  {
   "cell_type": "code",
   "execution_count": null,
   "id": "2da94741",
   "metadata": {},
   "outputs": [],
   "source": [
    "# Creation of Series - sinle value we create multiple times\n",
    "Scalar_var_01 = pd.Series(-0.5, index = [0,1,2,3,4,5,6])\n",
    "print(Scalar_var_01)"
   ]
  },
  {
   "cell_type": "code",
   "execution_count": null,
   "id": "a9a6ca4b",
   "metadata": {},
   "outputs": [],
   "source": [
    "# Creation of Series using Dictionanry\n",
    "\n",
    "dict_var_01 = {'A':1,'B':2,'C':3}\n",
    "print(dict_var_01)\n",
    "type(dict_var_01)\n"
   ]
  },
  {
   "cell_type": "code",
   "execution_count": 4,
   "id": "9efb9d68",
   "metadata": {},
   "outputs": [
    {
     "data": {
      "text/plain": [
       "7"
      ]
     },
     "execution_count": 4,
     "metadata": {},
     "output_type": "execute_result"
    }
   ],
   "source": [
    "# Slicing\n",
    "series_02 = pd.Series([5,7,9,6,1])\n",
    "\n",
    "series_02[1]"
   ]
  },
  {
   "cell_type": "code",
   "execution_count": 6,
   "id": "4da502c8",
   "metadata": {},
   "outputs": [
    {
     "data": {
      "text/plain": [
       "1"
      ]
     },
     "execution_count": 6,
     "metadata": {},
     "output_type": "execute_result"
    }
   ],
   "source": [
    "series_02[0]"
   ]
  },
  {
   "cell_type": "code",
   "execution_count": 7,
   "id": "bf174c91",
   "metadata": {},
   "outputs": [
    {
     "data": {
      "text/plain": [
       "1"
      ]
     },
     "execution_count": 7,
     "metadata": {},
     "output_type": "execute_result"
    }
   ],
   "source": [
    "series_02[4]\n"
   ]
  },
  {
   "cell_type": "code",
   "execution_count": 10,
   "id": "5aea27ff",
   "metadata": {},
   "outputs": [
    {
     "data": {
      "text/plain": [
       "2    9\n",
       "3    6\n",
       "dtype: int64"
      ]
     },
     "execution_count": 10,
     "metadata": {},
     "output_type": "execute_result"
    }
   ],
   "source": [
    "#(Range start:end(n-1)\n",
    "series_02[2:4]"
   ]
  },
  {
   "cell_type": "code",
   "execution_count": 23,
   "id": "9e9830ae",
   "metadata": {},
   "outputs": [
    {
     "name": "stdout",
     "output_type": "stream",
     "text": [
      "1      8\n",
      "4      8\n",
      "9     12\n",
      "10    98\n",
      "11    77\n",
      "dtype: int64\n"
     ]
    }
   ],
   "source": [
    "# conditiona operator and Other mathsmatice operation\n",
    "series_03 = pd.Series([7,8,4,6,8,1,2,6,4,12,0,98,77])\n",
    "# A[5] #error\n",
    "A = series_03[series_03 >= 8]\n",
    "print(A)\n"
   ]
  },
  {
   "cell_type": "code",
   "execution_count": 24,
   "id": "43ac4a64",
   "metadata": {},
   "outputs": [
    {
     "data": {
      "text/plain": [
       "1"
      ]
     },
     "execution_count": 24,
     "metadata": {},
     "output_type": "execute_result"
    }
   ],
   "source": [
    "min(series_03)"
   ]
  },
  {
   "cell_type": "code",
   "execution_count": 25,
   "id": "481e8cc2",
   "metadata": {},
   "outputs": [
    {
     "data": {
      "text/plain": [
       "0     12.0\n",
       "1     15.0\n",
       "2     13.0\n",
       "3     12.0\n",
       "4      9.0\n",
       "5      NaN\n",
       "6      NaN\n",
       "7      NaN\n",
       "8      NaN\n",
       "9      NaN\n",
       "10     NaN\n",
       "11     NaN\n",
       "dtype: float64"
      ]
     },
     "execution_count": 25,
     "metadata": {},
     "output_type": "execute_result"
    }
   ],
   "source": [
    "# Add\n",
    "series_02 + series_03\n",
    "# Nan - Empty values"
   ]
  },
  {
   "cell_type": "code",
   "execution_count": null,
   "id": "59cbcc3d",
   "metadata": {},
   "outputs": [],
   "source": []
  }
 ],
 "metadata": {
  "kernelspec": {
   "display_name": "Python 3 (ipykernel)",
   "language": "python",
   "name": "python3"
  },
  "language_info": {
   "codemirror_mode": {
    "name": "ipython",
    "version": 3
   },
   "file_extension": ".py",
   "mimetype": "text/x-python",
   "name": "python",
   "nbconvert_exporter": "python",
   "pygments_lexer": "ipython3",
   "version": "3.11.4"
  }
 },
 "nbformat": 4,
 "nbformat_minor": 5
}
